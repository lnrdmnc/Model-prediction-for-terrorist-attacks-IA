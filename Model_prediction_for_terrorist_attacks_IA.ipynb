{
  "nbformat": 4,
  "nbformat_minor": 0,
  "metadata": {
    "colab": {
      "name": " Model-prediction-for-terrorist-attacks-IA.ipynb",
      "provenance": [],
      "include_colab_link": true
    },
    "kernelspec": {
      "name": "python3",
      "display_name": "Python 3"
    },
    "language_info": {
      "name": "python"
    }
  },
  "cells": [
    {
      "cell_type": "markdown",
      "metadata": {
        "id": "view-in-github",
        "colab_type": "text"
      },
      "source": [
        "<a href=\"https://colab.research.google.com/github/lnrdmnc/Model-prediction-for-terrorist-attacks-IA/blob/main/Model_prediction_for_terrorist_attacks_IA.ipynb\" target=\"_parent\"><img src=\"https://colab.research.google.com/assets/colab-badge.svg\" alt=\"Open In Colab\"/></a>"
      ]
    },
    {
      "cell_type": "markdown",
      "source": [],
      "metadata": {
        "id": "YTUAU4K1F4iw"
      }
    },
    {
      "cell_type": "code",
      "execution_count": 1,
      "metadata": {
        "id": "gNxyL0uX5myA"
      },
      "outputs": [],
      "source": [
        "import pandas as pd"
      ]
    },
    {
      "cell_type": "code",
      "source": [
        "url1=\"/Users/leonardo/Desktop/Model-prediction-for-terrorist-attacks-IA/datasets/globalterrorismdb_0718dist.csv\"\n",
        "\n"
      ],
      "metadata": {
        "id": "4rd-JAxwGA__"
      },
      "execution_count": 2,
      "outputs": []
    }
  ]
}