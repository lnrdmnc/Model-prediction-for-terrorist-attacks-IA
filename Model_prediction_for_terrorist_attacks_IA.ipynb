{
  "nbformat": 4,
  "nbformat_minor": 0,
  "metadata": {
    "colab": {
      "name": " Model-prediction-for-terrorist-attacks-IA.ipynb",
      "provenance": [],
      "authorship_tag": "ABX9TyPLc7kb0LdKe0AYvxuf4/Pu",
      "include_colab_link": true
    },
    "kernelspec": {
      "name": "python3",
      "display_name": "Python 3"
    },
    "language_info": {
      "name": "python"
    }
  },
  "cells": [
    {
      "cell_type": "markdown",
      "metadata": {
        "id": "view-in-github",
        "colab_type": "text"
      },
      "source": [
        "<a href=\"https://colab.research.google.com/github/lnrdmnc/Model-prediction-for-terrorist-attacks-IA/blob/main/Model_prediction_for_terrorist_attacks_IA.ipynb\" target=\"_parent\"><img src=\"https://colab.research.google.com/assets/colab-badge.svg\" alt=\"Open In Colab\"/></a>"
      ]
    },
    {
      "cell_type": "code",
      "execution_count": null,
      "metadata": {
        "id": "gNxyL0uX5myA"
      },
      "outputs": [],
      "source": [
        ""
      ]
    }
  ]
}